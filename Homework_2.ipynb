{
 "cells": [
  {
   "cell_type": "code",
   "execution_count": 4,
   "metadata": {
    "collapsed": true
   },
   "outputs": [],
   "source": [
    "import numpy as np\n",
    "import matplotlib.pyplot as plt\n",
    "from scipy import constants\n",
    "from scipy import stats\n",
    "from sklearn import linear_model\n",
    "\n",
    "%matplotlib inline"
   ]
  },
  {
   "cell_type": "markdown",
   "metadata": {},
   "source": [
    "# 1"
   ]
  },
  {
   "cell_type": "code",
   "execution_count": 5,
   "metadata": {},
   "outputs": [
    {
     "name": "stdout",
     "output_type": "stream",
     "text": [
      "B: 60 dBHz\n",
      "Sr: -100 dBm\n"
     ]
    }
   ],
   "source": [
    "fc = 1e9 # Hz\n",
    "Lr = 2 # dB\n",
    "F = 2 # dB\n",
    "kT0 = -174 # dBm/Hz\n",
    "B = 10 * np.log10(1e6) # dBHz\n",
    "print(\"B: {:.0f} dBHz\".format(B))\n",
    "SNR = 10 # dB\n",
    "Sr = SNR + kT0 + B + F + Lr\n",
    "print(\"Sr: {:.0f} dBm\".format(Sr))"
   ]
  },
  {
   "cell_type": "code",
   "execution_count": 6,
   "metadata": {},
   "outputs": [
    {
     "name": "stdout",
     "output_type": "stream",
     "text": [
      "Pt: 30 dBm\n",
      "Range: 1000 m\n"
     ]
    }
   ],
   "source": [
    "Pt = 10*np.log10(1000) # dBm\n",
    "print(\"Pt: {:.0f} dBm\".format(Pt))\n",
    "# Pt - Lp = Sr\n",
    "# Pt + 50 - 10log(fc) - 30log(d) = Sr\n",
    "# 30log(d) = Pt - Sr + 50 - 10log(fc)\n",
    "# log(d) = (Pt - Sr + 50 - 10log(fc)) / 30\n",
    "d = 10**((Pt - Sr + 50 - 10*np.log10(fc))/30)\n",
    "print(\"Range: {:.0f} m\".format(d))"
   ]
  },
  {
   "cell_type": "code",
   "execution_count": 7,
   "metadata": {},
   "outputs": [
    {
     "name": "stdout",
     "output_type": "stream",
     "text": [
      "Lp: -59 dB\n",
      "Pt: 41 dBm\n"
     ]
    }
   ],
   "source": [
    "d = 2000 # m\n",
    "Lp = -50 + 10*np.log10(fc) - 30*np.log10(d)\n",
    "print(\"Lp: {:.0f} dB\".format(Lp))\n",
    "Pt = -Sr + Lp\n",
    "print(\"Pt: {:.0f} dBm\".format(Pt))\n"
   ]
  },
  {
   "cell_type": "markdown",
   "metadata": {},
   "source": [
    "# 2"
   ]
  },
  {
   "cell_type": "code",
   "execution_count": 8,
   "metadata": {},
   "outputs": [
    {
     "data": {
      "text/plain": [
       "[<matplotlib.lines.Line2D at 0x2512d919048>]"
      ]
     },
     "execution_count": 8,
     "metadata": {},
     "output_type": "execute_result"
    },
    {
     "data": {
      "image/png": "[encoded data removed]",
      "text/plain": [
       "<matplotlib.figure.Figure at 0x2512c126630>"
      ]
     },
     "metadata": {},
     "output_type": "display_data"
    }
   ],
   "source": [
    "def path_loss_db(d, fc, ht, hr, epsilon=15, polarization='horizontal'):\n",
    "    \"\"\"\n",
    "    two_ray_loss - path loss for a two ray channel\n",
    "    \n",
    "    Usage:\n",
    "      path_loss = two_ray_loss(d, fc, hb, hm, epsilon, polarization)\n",
    "    \n",
    "    Inputs:\n",
    "      d - distance (meters) between (base of) transmiter and receiver\n",
    "      fc - carrier frequency\n",
    "      ht - transmitter antenna height (meters)\n",
    "      hr - receiver antenna height (meters)\n",
    "      epsilon - relative dielectric constant of grond (default: 15)\n",
    "      polarization - either 'vertical' or 'horizontal' (default: 'horizontal')\n",
    "    \n",
    "    Output:\n",
    "      path_loss in dB\n",
    "    \"\"\"\n",
    "    assert polarization in ('horizontal', 'vertical'), \"Polarization must be either 'horizontal' or 'vertical'\"\n",
    "\n",
    "    c = 299792458.0 # m/s, speed of light\n",
    "    wavelength = c/fc # m\n",
    "    # set up geometry\n",
    "    tx_loc = np.array([0, ht], dtype=np.float) # tx antenna position\n",
    "    rx_loc = np.array([d, hr], dtype=np.float) # rx antenna position\n",
    "    ref_rx_loc = np.array([d, -hr], dtype=np.float) # image antenna position\n",
    "    # compute path lengths\n",
    "    l_los = np.linalg.norm(tx_loc - rx_loc)\n",
    "    l_ref = np.linalg.norm(tx_loc - ref_rx_loc)\n",
    "    # angle of reflection\n",
    "    # the slope of the line from tx to reflected rx equal the tangent of the\n",
    "    # angle between that ray and teh ground plane\n",
    "    slope = (ht + hr) / d\n",
    "    ref_angle = np.arctan(slope)\n",
    "    # reflection cefficient\n",
    "    if polarization == 'horizontal':\n",
    "        Z = np.sqrt(epsilon - np.cos(ref_angle)**2)\n",
    "    else:\n",
    "        Z = 1/epsilon*np.sqrt(epsilon - np.cos(ref_angle)**2)\n",
    "    R = (np.sin(ref_angle) - Z)/(np.sin(ref_angle) + Z)\n",
    "    # path loss\n",
    "    # phase difference due to delay difference\n",
    "    d_phi = 2*np.pi/wavelength*(l_ref - l_los);\n",
    "    # inverse of path loss on linear scale \n",
    "    path_gain_lin = (wavelength/(4*np.pi))**2 * np.abs(1/l_los + R*np.exp(-1j*d_phi)/l_ref)**2;\n",
    "    # turn into path loss in db\n",
    "    return -10*np.log10(path_gain_lin);\n",
    "\n",
    "\n",
    "fc = 900e6\n",
    "ht = 30\n",
    "hr = 2\n",
    "n_pts = 500\n",
    "d_array = np.logspace(0, 2, n_pts)\n",
    "loss_db = np.array([path_loss_db(d, fc, ht, hr) for d in d_array])\n",
    "\n",
    "plt.plot(d_array, -loss_db)\n",
    "    \n",
    "    "
   ]
  },
  {
   "cell_type": "code",
   "execution_count": 68,
   "metadata": {},
   "outputs": [
    {
     "data": {
      "text/plain": [
       "[<matplotlib.lines.Line2D at 0x25131bc2eb8>]"
      ]
     },
     "execution_count": 68,
     "metadata": {},
     "output_type": "execute_result"
    },
    {
     "data": {
      "image/png": "[encoded data removed]",
      "text/plain": [
       "<matplotlib.figure.Figure at 0x25131b8fa58>"
      ]
     },
     "metadata": {},
     "output_type": "display_data"
    }
   ],
   "source": [
    "def impule_response_ground_and_wall(fc, d1, d2, ht, hr):\n",
    "    r1_dist = np.sqrt(d1**2 + (ht-hr)**2)\n",
    "    r2_dist = np.sqrt(d1**2 + (ht+hr)**2)\n",
    "    r3_dist = np.sqrt((d1+2*d2)**2 + (ht-hr)**2)\n",
    "    gain = np.ones(3)\n",
    "    delay = np.array([r1_dist, r2_dist, r3_dist])/constants.speed_of_light\n",
    "    phase = np.array([0, np.exp(-1j*np.pi), np.exp(-1j*np.pi)])\n",
    "    return gain, delay, phase\n",
    "\n",
    "freq = np.linspace(1e9-10e6,1e9+10e6,100)\n",
    "h_gain, h_delay, h_phase = impule_response_ground_and_wall(1e9, 100, 20, 10, 4)\n",
    "\n",
    "h = np.zeros(freq.size, dtype=np.complex128)\n",
    "for i in np.arange(h_gain.size):\n",
    "    h += h_gain[i] * np.exp(-1j*2*np.pi*(fc+freq)*h_delay[i]) * np.exp(-1j*h_phase[i])\n",
    "    \n",
    "\n",
    "plt.plot(freq,np.abs(h))\n"
   ]
  },
  {
   "cell_type": "markdown",
   "metadata": {},
   "source": [
    "# 2.18"
   ]
  },
  {
   "cell_type": "code",
   "execution_count": 9,
   "metadata": {},
   "outputs": [
    {
     "name": "stdout",
     "output_type": "stream",
     "text": [
      "gamma:  -4.03937200289\n",
      "K:      -29.7200336627\n"
     ]
    }
   ],
   "source": [
    "d0 = 1 # meters\n",
    "d = np.array([5, 25, 65, 110, 400, 1000]) # meters\n",
    "d_in_dB = 10*np.log10(d/d0).reshape(-1,1)\n",
    "loss = np.array([-60, -80, -105, -115, -135, -150]) # dB\n",
    "\n",
    "# Create linear regression object\n",
    "linear_regression = linear_model.LinearRegression()\n",
    "linear_regression.fit(d_in_dB, loss)\n",
    "loss_pred = linear_regression.predict(d_in_dB)\n",
    "\n",
    "# The coefficients\n",
    "print('gamma: ', linear_regression.coef_[0])\n",
    "print('K:     ', linear_regression.intercept_)"
   ]
  },
  {
   "cell_type": "code",
   "execution_count": 10,
   "metadata": {},
   "outputs": [
    {
     "data": {
      "text/plain": [
       "<matplotlib.text.Text at 0x2512d86a860>"
      ]
     },
     "execution_count": 10,
     "metadata": {},
     "output_type": "execute_result"
    },
    {
     "data": {
      "image/png": "[encoded data removed]",
      "text/plain": [
       "<matplotlib.figure.Figure at 0x2512d8a1d68>"
      ]
     },
     "metadata": {},
     "output_type": "display_data"
    }
   ],
   "source": [
    "plt.plot(d, loss, 'ok')\n",
    "plt.plot(d, loss_pred, '--b')\n",
    "plt.ylabel('loss (dB)')\n",
    "plt.xlabel('distance (m)')"
   ]
  },
  {
   "cell_type": "code",
   "execution_count": 18,
   "metadata": {},
   "outputs": [
    {
     "data": {
      "text/plain": [
       "9.2460391070342531"
      ]
     },
     "execution_count": 18,
     "metadata": {},
     "output_type": "execute_result"
    }
   ],
   "source": [
    "np.array((loss-loss_pred)**2).mean()"
   ]
  },
  {
   "cell_type": "code",
   "execution_count": null,
   "metadata": {},
   "outputs": [],
   "source": [
    "print(\"Loss at 2000m: {:.0f} dB\".format(\n",
    "      linear_regression.predict([[10*np.log10(2000/d0)]])[0]))"
   ]
  },
  {
   "cell_type": "markdown",
   "metadata": {},
   "source": [
    "# 2.23"
   ]
  },
  {
   "cell_type": "code",
   "execution_count": 12,
   "metadata": {},
   "outputs": [
    {
     "name": "stdout",
     "output_type": "stream",
     "text": [
      "Coverage area: 1.0\n"
     ]
    }
   ],
   "source": [
    "gamma = 3\n",
    "d0 = 1 # meters\n",
    "K = 0 # dB\n",
    "sigma = 4 # dB\n",
    "R = 100 # meters\n",
    "Pt = 10*np.log10(80) # dBm\n",
    "Pmin = -100 # dBm\n",
    "\n",
    "Pr = Pt + K - 10*gamma*np.log10(R/d0)\n",
    "a = (Pmin - Pr)/sigma\n",
    "b = 10*gamma*np.log10(np.exp(1))/sigma\n",
    "print(\"Coverage area: {}\".format(\n",
    "    stats.norm.sf(a)+np.exp((2-2*a*b)/b**2)*stats.norm.sf((2-a*b)/b)))"
   ]
  },
  {
   "cell_type": "markdown",
   "metadata": {},
   "source": [
    "# 2.25"
   ]
  },
  {
   "cell_type": "code",
   "execution_count": null,
   "metadata": {},
   "outputs": [],
   "source": []
  },
  {
   "cell_type": "code",
   "execution_count": null,
   "metadata": {
    "collapsed": true
   },
   "outputs": [],
   "source": []
  },
  {
   "cell_type": "code",
   "execution_count": null,
   "metadata": {
    "collapsed": true
   },
   "outputs": [],
   "source": []
  }
 ],
 "metadata": {
  "kernelspec": {
   "display_name": "Python 3",
   "language": "python",
   "name": "python3"
  },
  "language_info": {
   "codemirror_mode": {
    "name": "ipython",
    "version": 3
   },
   "file_extension": ".py",
   "mimetype": "text/x-python",
   "name": "python",
   "nbconvert_exporter": "python",
   "pygments_lexer": "ipython3",
   "version": "3.6.2"
  }
 },
 "nbformat": 4,
 "nbformat_minor": 2
}
